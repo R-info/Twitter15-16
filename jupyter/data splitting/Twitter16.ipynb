{
 "cells": [
  {
   "cell_type": "code",
   "execution_count": 1,
   "id": "4a9b6fa9",
   "metadata": {},
   "outputs": [
    {
     "name": "stdout",
     "output_type": "stream",
     "text": [
      "(818, 7)\n"
     ]
    },
    {
     "data": {
      "text/html": [
       "<div>\n",
       "<style scoped>\n",
       "    .dataframe tbody tr th:only-of-type {\n",
       "        vertical-align: middle;\n",
       "    }\n",
       "\n",
       "    .dataframe tbody tr th {\n",
       "        vertical-align: top;\n",
       "    }\n",
       "\n",
       "    .dataframe thead th {\n",
       "        text-align: right;\n",
       "    }\n",
       "</style>\n",
       "<table border=\"1\" class=\"dataframe\">\n",
       "  <thead>\n",
       "    <tr style=\"text-align: right;\">\n",
       "      <th></th>\n",
       "      <th>tweet_id</th>\n",
       "      <th>tweet_text</th>\n",
       "      <th>label</th>\n",
       "      <th>tvt</th>\n",
       "      <th>cv_fold</th>\n",
       "      <th>tt</th>\n",
       "      <th>tvt2</th>\n",
       "    </tr>\n",
       "  </thead>\n",
       "  <tbody>\n",
       "    <tr>\n",
       "      <th>0</th>\n",
       "      <td>656955120626880512</td>\n",
       "      <td>correct predictions in back to the future ii U...</td>\n",
       "      <td>false</td>\n",
       "      <td>training</td>\n",
       "      <td>1</td>\n",
       "      <td>training</td>\n",
       "      <td>validation</td>\n",
       "    </tr>\n",
       "    <tr>\n",
       "      <th>1</th>\n",
       "      <td>615689290706595840</td>\n",
       "      <td>.@whitehouse in rainbow colors for #scotusmarr...</td>\n",
       "      <td>true</td>\n",
       "      <td>training</td>\n",
       "      <td>3</td>\n",
       "      <td>training</td>\n",
       "      <td>training</td>\n",
       "    </tr>\n",
       "    <tr>\n",
       "      <th>2</th>\n",
       "      <td>613404935003217920</td>\n",
       "      <td>cops bought the alleged church shooter burger ...</td>\n",
       "      <td>false</td>\n",
       "      <td>training</td>\n",
       "      <td>2</td>\n",
       "      <td>test</td>\n",
       "      <td>validation</td>\n",
       "    </tr>\n",
       "    <tr>\n",
       "      <th>3</th>\n",
       "      <td>731166399389962242</td>\n",
       "      <td>🔥ca kkk grand wizard 🔥 endorses @hillaryclinto...</td>\n",
       "      <td>unverified</td>\n",
       "      <td>training</td>\n",
       "      <td>3</td>\n",
       "      <td>test</td>\n",
       "      <td>training</td>\n",
       "    </tr>\n",
       "    <tr>\n",
       "      <th>4</th>\n",
       "      <td>714598641827246081</td>\n",
       "      <td>an open letter to trump voters from his top st...</td>\n",
       "      <td>unverified</td>\n",
       "      <td>training</td>\n",
       "      <td>1</td>\n",
       "      <td>test</td>\n",
       "      <td>training</td>\n",
       "    </tr>\n",
       "  </tbody>\n",
       "</table>\n",
       "</div>"
      ],
      "text/plain": [
       "             tweet_id                                         tweet_text  \\\n",
       "0  656955120626880512  correct predictions in back to the future ii U...   \n",
       "1  615689290706595840  .@whitehouse in rainbow colors for #scotusmarr...   \n",
       "2  613404935003217920  cops bought the alleged church shooter burger ...   \n",
       "3  731166399389962242  🔥ca kkk grand wizard 🔥 endorses @hillaryclinto...   \n",
       "4  714598641827246081  an open letter to trump voters from his top st...   \n",
       "\n",
       "        label       tvt  cv_fold        tt        tvt2  \n",
       "0       false  training        1  training  validation  \n",
       "1        true  training        3  training    training  \n",
       "2       false  training        2      test  validation  \n",
       "3  unverified  training        3      test    training  \n",
       "4  unverified  training        1      test    training  "
      ]
     },
     "execution_count": 1,
     "metadata": {},
     "output_type": "execute_result"
    }
   ],
   "source": [
    "import pandas as pd\n",
    "\n",
    "data = pd.read_csv(\"../../data/twitter16_dataset_with_tvt.csv\", lineterminator=\"\\n\")\n",
    "print(data.shape)\n",
    "data.head()"
   ]
  },
  {
   "cell_type": "code",
   "execution_count": 2,
   "id": "38478d9c",
   "metadata": {},
   "outputs": [
    {
     "data": {
      "text/plain": [
       "818"
      ]
     },
     "execution_count": 2,
     "metadata": {},
     "output_type": "execute_result"
    }
   ],
   "source": [
    "length = data.shape[0]\n",
    "length"
   ]
  },
  {
   "cell_type": "code",
   "execution_count": 3,
   "id": "75afb59d",
   "metadata": {},
   "outputs": [
    {
     "name": "stdout",
     "output_type": "stream",
     "text": [
      "weights : 1000\n",
      "Training : 545 - 0.666\n",
      "Validation : 192 - 0.235\n",
      "Testing : 81 - 0.099\n"
     ]
    }
   ],
   "source": [
    "import random\n",
    "\n",
    "# random.seed(33)\n",
    "\n",
    "train_w = [0 for i in range(675)]\n",
    "val_w = [1 for i in range(225)]\n",
    "test_w = [2 for i in range(100)]\n",
    "\n",
    "weights = train_w + val_w + test_w\n",
    "print(f\"weights : {len(weights)}\")\n",
    "\n",
    "tvt = []\n",
    "for i in range(length):\n",
    "    gacha = random.sample(weights, 1)[0]\n",
    "    if gacha == 0:\n",
    "        tvt.append(\"training\")\n",
    "    elif gacha == 1:\n",
    "        tvt.append(\"validation\")\n",
    "    else:\n",
    "        tvt.append(\"testting\")\n",
    "\n",
    "print(f\"Training : {tvt.count('training')} - {round(tvt.count('training')/length, 3)}\")\n",
    "print(f\"Validation : {tvt.count('validation')} - {round(tvt.count('validation')/length, 3)}\")\n",
    "print(f\"Testing : {tvt.count('testting')} - {round(tvt.count('testting')/length, 3)}\")"
   ]
  },
  {
   "cell_type": "code",
   "execution_count": 4,
   "id": "9463cc17",
   "metadata": {},
   "outputs": [
    {
     "data": {
      "text/html": [
       "<div>\n",
       "<style scoped>\n",
       "    .dataframe tbody tr th:only-of-type {\n",
       "        vertical-align: middle;\n",
       "    }\n",
       "\n",
       "    .dataframe tbody tr th {\n",
       "        vertical-align: top;\n",
       "    }\n",
       "\n",
       "    .dataframe thead th {\n",
       "        text-align: right;\n",
       "    }\n",
       "</style>\n",
       "<table border=\"1\" class=\"dataframe\">\n",
       "  <thead>\n",
       "    <tr style=\"text-align: right;\">\n",
       "      <th></th>\n",
       "      <th>tweet_id</th>\n",
       "      <th>tweet_text</th>\n",
       "      <th>label</th>\n",
       "      <th>tvt</th>\n",
       "      <th>cv_fold</th>\n",
       "      <th>tt</th>\n",
       "      <th>tvt2</th>\n",
       "    </tr>\n",
       "  </thead>\n",
       "  <tbody>\n",
       "    <tr>\n",
       "      <th>0</th>\n",
       "      <td>656955120626880512</td>\n",
       "      <td>correct predictions in back to the future ii U...</td>\n",
       "      <td>false</td>\n",
       "      <td>training</td>\n",
       "      <td>1</td>\n",
       "      <td>training</td>\n",
       "      <td>validation</td>\n",
       "    </tr>\n",
       "    <tr>\n",
       "      <th>1</th>\n",
       "      <td>615689290706595840</td>\n",
       "      <td>.@whitehouse in rainbow colors for #scotusmarr...</td>\n",
       "      <td>true</td>\n",
       "      <td>training</td>\n",
       "      <td>3</td>\n",
       "      <td>training</td>\n",
       "      <td>training</td>\n",
       "    </tr>\n",
       "    <tr>\n",
       "      <th>2</th>\n",
       "      <td>613404935003217920</td>\n",
       "      <td>cops bought the alleged church shooter burger ...</td>\n",
       "      <td>false</td>\n",
       "      <td>training</td>\n",
       "      <td>2</td>\n",
       "      <td>test</td>\n",
       "      <td>training</td>\n",
       "    </tr>\n",
       "    <tr>\n",
       "      <th>3</th>\n",
       "      <td>731166399389962242</td>\n",
       "      <td>🔥ca kkk grand wizard 🔥 endorses @hillaryclinto...</td>\n",
       "      <td>unverified</td>\n",
       "      <td>training</td>\n",
       "      <td>3</td>\n",
       "      <td>test</td>\n",
       "      <td>training</td>\n",
       "    </tr>\n",
       "    <tr>\n",
       "      <th>4</th>\n",
       "      <td>714598641827246081</td>\n",
       "      <td>an open letter to trump voters from his top st...</td>\n",
       "      <td>unverified</td>\n",
       "      <td>training</td>\n",
       "      <td>1</td>\n",
       "      <td>test</td>\n",
       "      <td>training</td>\n",
       "    </tr>\n",
       "  </tbody>\n",
       "</table>\n",
       "</div>"
      ],
      "text/plain": [
       "             tweet_id                                         tweet_text  \\\n",
       "0  656955120626880512  correct predictions in back to the future ii U...   \n",
       "1  615689290706595840  .@whitehouse in rainbow colors for #scotusmarr...   \n",
       "2  613404935003217920  cops bought the alleged church shooter burger ...   \n",
       "3  731166399389962242  🔥ca kkk grand wizard 🔥 endorses @hillaryclinto...   \n",
       "4  714598641827246081  an open letter to trump voters from his top st...   \n",
       "\n",
       "        label       tvt  cv_fold        tt        tvt2  \n",
       "0       false  training        1  training  validation  \n",
       "1        true  training        3  training    training  \n",
       "2       false  training        2      test    training  \n",
       "3  unverified  training        3      test    training  \n",
       "4  unverified  training        1      test    training  "
      ]
     },
     "execution_count": 4,
     "metadata": {},
     "output_type": "execute_result"
    }
   ],
   "source": [
    "data['tvt2'] = pd.Series(tvt)\n",
    "data.head()"
   ]
  },
  {
   "cell_type": "code",
   "execution_count": 5,
   "id": "40803634",
   "metadata": {},
   "outputs": [
    {
     "data": {
      "text/plain": [
       "true          207\n",
       "false         205\n",
       "non-rumor     205\n",
       "unverified    201\n",
       "Name: label, dtype: int64"
      ]
     },
     "execution_count": 5,
     "metadata": {},
     "output_type": "execute_result"
    }
   ],
   "source": [
    "label_count = data['label'].value_counts()\n",
    "label_count"
   ]
  },
  {
   "cell_type": "code",
   "execution_count": 6,
   "id": "52bd5ee5",
   "metadata": {},
   "outputs": [
    {
     "name": "stdout",
     "output_type": "stream",
     "text": [
      "\n",
      "Label,false,true,unverified,non-rumor\n",
      "Original\t0.25\t0.25\t0.25\t0.25\n",
      "Training\t0.25\t0.24\t0.25\t0.26\n",
      "Validation\t0.24\t0.29\t0.24\t0.23\n",
      "Testting\t0.26\t0.25\t0.25\t0.25\n",
      "\n",
      "Label,false,true,unverified,non-rumor\n",
      "Original\t205\t207\t201\t205\n",
      "Training\t138\t132\t135\t140\n",
      "Validation\t46\t55\t46\t45\n",
      "Testting\t21\t20\t20\t20\n"
     ]
    }
   ],
   "source": [
    "combination = data.apply(lambda row: f\"{row['label']}_{row['tvt2']}\", axis=1).value_counts()\n",
    "comparison = {}\n",
    "for k, comb in combination.items():\n",
    "    cv_fold = k.split(\"_\")[1]\n",
    "    label = k.split(\"_\")[0]\n",
    "\n",
    "    if cv_fold not in comparison:\n",
    "        comparison[cv_fold] = {}\n",
    "    \n",
    "    comparison[cv_fold][label] = comb\n",
    "\n",
    "labels = data['label'].unique().tolist()\n",
    "\n",
    "def label_ratio(label_dict, labels):\n",
    "    total = sum([v for k, v in label_dict.items()])\n",
    "    \n",
    "    report = \"\"\n",
    "    for l in labels:\n",
    "        report += f\"{round(label_dict[l]/total, 2)}\\t\"\n",
    "    \n",
    "    return report[:-1]\n",
    "\n",
    "def label_raw_value(label_dict, labels):\n",
    "    total = sum([v for k, v in label_dict.items()])\n",
    "    \n",
    "    report = \"\"\n",
    "    for l in labels:\n",
    "        report += f\"{label_dict[l]}\\t\"\n",
    "    \n",
    "    return report[:-1]\n",
    "\n",
    "labels_str = ','.join(labels)\n",
    "print(f\"\\nLabel,{labels_str}\")\n",
    "print(f\"Original\\t{label_ratio(label_count, labels)}\")\n",
    "for cv, comp in comparison.items():\n",
    "    print(f\"{cv.title()}\\t{label_ratio(comp, labels)}\")\n",
    "    \n",
    "labels_str = ','.join(labels)\n",
    "print(f\"\\nLabel,{labels_str}\")\n",
    "print(f\"Original\\t{label_raw_value(label_count, labels)}\")\n",
    "for cv, comp in comparison.items():\n",
    "    print(f\"{cv.title()}\\t{label_raw_value(comp, labels)}\")"
   ]
  },
  {
   "cell_type": "code",
   "execution_count": 8,
   "id": "d80f19f1",
   "metadata": {},
   "outputs": [],
   "source": [
    "data.to_csv(\"../../data/twitter16_dataset_with_tvt.csv\", index=False)"
   ]
  },
  {
   "cell_type": "code",
   "execution_count": null,
   "id": "a3e3561b",
   "metadata": {},
   "outputs": [],
   "source": []
  }
 ],
 "metadata": {
  "kernelspec": {
   "display_name": "Python 3 (ipykernel)",
   "language": "python",
   "name": "python3"
  },
  "language_info": {
   "codemirror_mode": {
    "name": "ipython",
    "version": 3
   },
   "file_extension": ".py",
   "mimetype": "text/x-python",
   "name": "python",
   "nbconvert_exporter": "python",
   "pygments_lexer": "ipython3",
   "version": "3.9.5"
  }
 },
 "nbformat": 4,
 "nbformat_minor": 5
}
