{
 "cells": [
  {
   "cell_type": "code",
   "execution_count": 1,
   "id": "4a9b6fa9",
   "metadata": {},
   "outputs": [
    {
     "name": "stdout",
     "output_type": "stream",
     "text": [
      "(742, 4)\n"
     ]
    },
    {
     "data": {
      "text/html": [
       "<div>\n",
       "<style scoped>\n",
       "    .dataframe tbody tr th:only-of-type {\n",
       "        vertical-align: middle;\n",
       "    }\n",
       "\n",
       "    .dataframe tbody tr th {\n",
       "        vertical-align: top;\n",
       "    }\n",
       "\n",
       "    .dataframe thead th {\n",
       "        text-align: right;\n",
       "    }\n",
       "</style>\n",
       "<table border=\"1\" class=\"dataframe\">\n",
       "  <thead>\n",
       "    <tr style=\"text-align: right;\">\n",
       "      <th></th>\n",
       "      <th>tweet_id</th>\n",
       "      <th>tweet_text</th>\n",
       "      <th>label</th>\n",
       "      <th>tvt2</th>\n",
       "    </tr>\n",
       "  </thead>\n",
       "  <tbody>\n",
       "    <tr>\n",
       "      <th>0</th>\n",
       "      <td>551099691702956032</td>\n",
       "      <td>rip elly may clampett: so sad to learn #beverl...</td>\n",
       "      <td>True</td>\n",
       "      <td>training</td>\n",
       "    </tr>\n",
       "    <tr>\n",
       "      <th>1</th>\n",
       "      <td>514106273852174337</td>\n",
       "      <td>just in: missing afghan soldiers found trying ...</td>\n",
       "      <td>True</td>\n",
       "      <td>training</td>\n",
       "    </tr>\n",
       "    <tr>\n",
       "      <th>2</th>\n",
       "      <td>495366618818830336</td>\n",
       "      <td>#riphulkhogan my heart is ripping like your sh...</td>\n",
       "      <td>False</td>\n",
       "      <td>training</td>\n",
       "    </tr>\n",
       "    <tr>\n",
       "      <th>3</th>\n",
       "      <td>532206910796468224</td>\n",
       "      <td>a chick-fil-a manager allegedly banned this hi...</td>\n",
       "      <td>False</td>\n",
       "      <td>training</td>\n",
       "    </tr>\n",
       "    <tr>\n",
       "      <th>4</th>\n",
       "      <td>560187970389819392</td>\n",
       "      <td>islamic tribunal using sharia law in texas has...</td>\n",
       "      <td>False</td>\n",
       "      <td>validation</td>\n",
       "    </tr>\n",
       "  </tbody>\n",
       "</table>\n",
       "</div>"
      ],
      "text/plain": [
       "             tweet_id                                         tweet_text  \\\n",
       "0  551099691702956032  rip elly may clampett: so sad to learn #beverl...   \n",
       "1  514106273852174337  just in: missing afghan soldiers found trying ...   \n",
       "2  495366618818830336  #riphulkhogan my heart is ripping like your sh...   \n",
       "3  532206910796468224  a chick-fil-a manager allegedly banned this hi...   \n",
       "4  560187970389819392  islamic tribunal using sharia law in texas has...   \n",
       "\n",
       "   label        tvt2  \n",
       "0   True    training  \n",
       "1   True    training  \n",
       "2  False    training  \n",
       "3  False    training  \n",
       "4  False  validation  "
      ]
     },
     "execution_count": 1,
     "metadata": {},
     "output_type": "execute_result"
    }
   ],
   "source": [
    "import pandas as pd\n",
    "\n",
    "data = pd.read_csv(\"../../data/twitter15-tf_dataset.csv\", lineterminator=\"\\n\")\n",
    "print(data.shape)\n",
    "data.head()"
   ]
  },
  {
   "cell_type": "code",
   "execution_count": 2,
   "id": "38478d9c",
   "metadata": {},
   "outputs": [
    {
     "data": {
      "text/plain": [
       "742"
      ]
     },
     "execution_count": 2,
     "metadata": {},
     "output_type": "execute_result"
    }
   ],
   "source": [
    "length = data.shape[0]\n",
    "length"
   ]
  },
  {
   "cell_type": "code",
   "execution_count": 3,
   "id": "75afb59d",
   "metadata": {},
   "outputs": [
    {
     "name": "stdout",
     "output_type": "stream",
     "text": [
      "weights : 1000\n",
      "Training : 497 - 0.67\n",
      "Validation : 152 - 0.205\n",
      "Testing : 93 - 0.125\n"
     ]
    }
   ],
   "source": [
    "import random\n",
    "\n",
    "# random.seed(33)\n",
    "\n",
    "train_w = [0 for i in range(675)]\n",
    "val_w = [1 for i in range(225)]\n",
    "test_w = [2 for i in range(100)]\n",
    "\n",
    "weights = train_w + val_w + test_w\n",
    "print(f\"weights : {len(weights)}\")\n",
    "\n",
    "tvt = []\n",
    "for i in range(length):\n",
    "    gacha = random.sample(weights, 1)[0]\n",
    "    if gacha == 0:\n",
    "        tvt.append(\"training\")\n",
    "    elif gacha == 1:\n",
    "        tvt.append(\"validation\")\n",
    "    else:\n",
    "        tvt.append(\"testting\")\n",
    "\n",
    "print(f\"Training : {tvt.count('training')} - {round(tvt.count('training')/length, 3)}\")\n",
    "print(f\"Validation : {tvt.count('validation')} - {round(tvt.count('validation')/length, 3)}\")\n",
    "print(f\"Testing : {tvt.count('testting')} - {round(tvt.count('testting')/length, 3)}\")"
   ]
  },
  {
   "cell_type": "code",
   "execution_count": 4,
   "id": "9463cc17",
   "metadata": {},
   "outputs": [
    {
     "data": {
      "text/html": [
       "<div>\n",
       "<style scoped>\n",
       "    .dataframe tbody tr th:only-of-type {\n",
       "        vertical-align: middle;\n",
       "    }\n",
       "\n",
       "    .dataframe tbody tr th {\n",
       "        vertical-align: top;\n",
       "    }\n",
       "\n",
       "    .dataframe thead th {\n",
       "        text-align: right;\n",
       "    }\n",
       "</style>\n",
       "<table border=\"1\" class=\"dataframe\">\n",
       "  <thead>\n",
       "    <tr style=\"text-align: right;\">\n",
       "      <th></th>\n",
       "      <th>tweet_id</th>\n",
       "      <th>tweet_text</th>\n",
       "      <th>label</th>\n",
       "      <th>tvt2</th>\n",
       "    </tr>\n",
       "  </thead>\n",
       "  <tbody>\n",
       "    <tr>\n",
       "      <th>0</th>\n",
       "      <td>551099691702956032</td>\n",
       "      <td>rip elly may clampett: so sad to learn #beverl...</td>\n",
       "      <td>True</td>\n",
       "      <td>training</td>\n",
       "    </tr>\n",
       "    <tr>\n",
       "      <th>1</th>\n",
       "      <td>514106273852174337</td>\n",
       "      <td>just in: missing afghan soldiers found trying ...</td>\n",
       "      <td>True</td>\n",
       "      <td>training</td>\n",
       "    </tr>\n",
       "    <tr>\n",
       "      <th>2</th>\n",
       "      <td>495366618818830336</td>\n",
       "      <td>#riphulkhogan my heart is ripping like your sh...</td>\n",
       "      <td>False</td>\n",
       "      <td>training</td>\n",
       "    </tr>\n",
       "    <tr>\n",
       "      <th>3</th>\n",
       "      <td>532206910796468224</td>\n",
       "      <td>a chick-fil-a manager allegedly banned this hi...</td>\n",
       "      <td>False</td>\n",
       "      <td>validation</td>\n",
       "    </tr>\n",
       "    <tr>\n",
       "      <th>4</th>\n",
       "      <td>560187970389819392</td>\n",
       "      <td>islamic tribunal using sharia law in texas has...</td>\n",
       "      <td>False</td>\n",
       "      <td>validation</td>\n",
       "    </tr>\n",
       "  </tbody>\n",
       "</table>\n",
       "</div>"
      ],
      "text/plain": [
       "             tweet_id                                         tweet_text  \\\n",
       "0  551099691702956032  rip elly may clampett: so sad to learn #beverl...   \n",
       "1  514106273852174337  just in: missing afghan soldiers found trying ...   \n",
       "2  495366618818830336  #riphulkhogan my heart is ripping like your sh...   \n",
       "3  532206910796468224  a chick-fil-a manager allegedly banned this hi...   \n",
       "4  560187970389819392  islamic tribunal using sharia law in texas has...   \n",
       "\n",
       "   label        tvt2  \n",
       "0   True    training  \n",
       "1   True    training  \n",
       "2  False    training  \n",
       "3  False  validation  \n",
       "4  False  validation  "
      ]
     },
     "execution_count": 4,
     "metadata": {},
     "output_type": "execute_result"
    }
   ],
   "source": [
    "data['tvt2'] = pd.Series(tvt)\n",
    "data.head()"
   ]
  },
  {
   "cell_type": "code",
   "execution_count": 5,
   "id": "4c80da85",
   "metadata": {},
   "outputs": [
    {
     "name": "stdout",
     "output_type": "stream",
     "text": [
      "<class 'pandas.core.frame.DataFrame'>\n",
      "RangeIndex: 742 entries, 0 to 741\n",
      "Data columns (total 4 columns):\n",
      " #   Column      Non-Null Count  Dtype \n",
      "---  ------      --------------  ----- \n",
      " 0   tweet_id    742 non-null    int64 \n",
      " 1   tweet_text  742 non-null    object\n",
      " 2   label       742 non-null    object\n",
      " 3   tvt2        742 non-null    object\n",
      "dtypes: int64(1), object(3)\n",
      "memory usage: 23.3+ KB\n"
     ]
    }
   ],
   "source": [
    "def bool2str(df):\n",
    "    if df['label'] == True:\n",
    "        return \"true\"\n",
    "    else:\n",
    "        return \"false\"\n",
    "\n",
    "data['label'] = data.apply(lambda row: bool2str(row), axis=1)\n",
    "data.info()"
   ]
  },
  {
   "cell_type": "code",
   "execution_count": 6,
   "id": "40803634",
   "metadata": {},
   "outputs": [
    {
     "data": {
      "text/plain": [
       "true     372\n",
       "false    370\n",
       "Name: label, dtype: int64"
      ]
     },
     "execution_count": 6,
     "metadata": {},
     "output_type": "execute_result"
    }
   ],
   "source": [
    "label_count = data['label'].value_counts()\n",
    "label_count"
   ]
  },
  {
   "cell_type": "code",
   "execution_count": 7,
   "id": "52bd5ee5",
   "metadata": {},
   "outputs": [
    {
     "name": "stdout",
     "output_type": "stream",
     "text": [
      "\n",
      "Label,true,false\n",
      "Original\t0.5\t0.5\n",
      "Training\t0.49\t0.51\n",
      "Validation\t0.53\t0.47\n",
      "Testting\t0.49\t0.51\n",
      "\n",
      "Label,true,false\n",
      "Original\t372\t370\n",
      "Training\t246\t251\n",
      "Validation\t80\t72\n",
      "Testting\t46\t47\n"
     ]
    }
   ],
   "source": [
    "combination = data.apply(lambda row: f\"{row['label']}_{row['tvt2']}\", axis=1).value_counts()\n",
    "comparison = {}\n",
    "for k, comb in combination.items():\n",
    "    cv_fold = k.split(\"_\")[1]\n",
    "    label = k.split(\"_\")[0]\n",
    "\n",
    "    if cv_fold not in comparison:\n",
    "        comparison[cv_fold] = {}\n",
    "    \n",
    "    comparison[cv_fold][label] = comb\n",
    "\n",
    "labels = data['label'].unique().tolist()\n",
    "\n",
    "def label_ratio(label_dict, labels):\n",
    "    total = sum([v for k, v in label_dict.items()])\n",
    "    \n",
    "    report = \"\"\n",
    "    for l in labels:\n",
    "        report += f\"{round(label_dict[l]/total, 2)}\\t\"\n",
    "    \n",
    "    return report[:-1]\n",
    "\n",
    "def label_raw_value(label_dict, labels):\n",
    "    total = sum([v for k, v in label_dict.items()])\n",
    "    \n",
    "    report = \"\"\n",
    "    for l in labels:\n",
    "        report += f\"{label_dict[l]}\\t\"\n",
    "    \n",
    "    return report[:-1]\n",
    "\n",
    "labels_str = ','.join([str(l) for l in labels])\n",
    "print(f\"\\nLabel,{labels_str}\")\n",
    "print(f\"Original\\t{label_ratio(label_count, labels)}\")\n",
    "for cv, comp in comparison.items():\n",
    "    print(f\"{cv.title()}\\t{label_ratio(comp, labels)}\")\n",
    "    \n",
    "labels_str = ','.join([str(l) for l in labels])\n",
    "print(f\"\\nLabel,{labels_str}\")\n",
    "print(f\"Original\\t{label_raw_value(label_count, labels)}\")\n",
    "for cv, comp in comparison.items():\n",
    "    print(f\"{cv.title()}\\t{label_raw_value(comp, labels)}\")"
   ]
  },
  {
   "cell_type": "code",
   "execution_count": 9,
   "id": "d80f19f1",
   "metadata": {},
   "outputs": [],
   "source": [
    "data.to_csv(\"../../data/twitter15-tf_dataset.csv\", index=False)"
   ]
  },
  {
   "cell_type": "code",
   "execution_count": null,
   "id": "a3e3561b",
   "metadata": {},
   "outputs": [],
   "source": []
  }
 ],
 "metadata": {
  "kernelspec": {
   "display_name": "Python 3 (ipykernel)",
   "language": "python",
   "name": "python3"
  },
  "language_info": {
   "codemirror_mode": {
    "name": "ipython",
    "version": 3
   },
   "file_extension": ".py",
   "mimetype": "text/x-python",
   "name": "python",
   "nbconvert_exporter": "python",
   "pygments_lexer": "ipython3",
   "version": "3.9.5"
  }
 },
 "nbformat": 4,
 "nbformat_minor": 5
}
