{
 "cells": [
  {
   "cell_type": "code",
   "execution_count": 1,
   "id": "e7cb6440",
   "metadata": {},
   "outputs": [
    {
     "name": "stdout",
     "output_type": "stream",
     "text": [
      "             tweet_id                                         tweet_text\n",
      "0  656955120626880512  correct predictions in back to the future ii U...\n",
      "1  615689290706595840  .@whitehouse in rainbow colors for #scotusmarr...\n",
      "2  613404935003217920  cops bought the alleged church shooter burger ...\n",
      "3  731166399389962242  🔥ca kkk grand wizard 🔥 endorses @hillaryclinto...\n",
      "4  714598641827246081  an open letter to trump voters from his top st...\n"
     ]
    }
   ],
   "source": [
    "import pandas as pd\n",
    "import numpy as np\n",
    "\n",
    "data = pd.read_csv(\"../../data/master/rumdetect2017/rumor_detection_acl2017/twitter16/source_tweets.txt\", header=None, delimiter=\"\\t\", lineterminator=\"\\n\")\n",
    "data.columns = [\"tweet_id\", \"tweet_text\"]\n",
    "print(data.head())"
   ]
  },
  {
   "cell_type": "code",
   "execution_count": 2,
   "id": "af49822f",
   "metadata": {},
   "outputs": [
    {
     "name": "stdout",
     "output_type": "stream",
     "text": [
      "        label            tweet_id\n",
      "0       false  656955120626880512\n",
      "1        true  615689290706595840\n",
      "2       false  613404935003217920\n",
      "3  unverified  731166399389962242\n",
      "4  unverified  714598641827246081\n"
     ]
    }
   ],
   "source": [
    "labels = pd.read_csv(\"../../data/master/rumdetect2017/rumor_detection_acl2017/twitter16/label.txt\", header=None, delimiter=\":\", lineterminator=\"\\n\")\n",
    "labels.columns = [\"label\", \"tweet_id\"]\n",
    "print(labels.head())"
   ]
  },
  {
   "cell_type": "code",
   "execution_count": 3,
   "id": "5b625f8a",
   "metadata": {},
   "outputs": [
    {
     "name": "stdout",
     "output_type": "stream",
     "text": [
      "{'false': 205, 'true': 207, 'unverified': 201, 'non-rumor': 205}\n"
     ]
    },
    {
     "data": {
      "text/plain": [
       "818"
      ]
     },
     "execution_count": 3,
     "metadata": {},
     "output_type": "execute_result"
    }
   ],
   "source": [
    "label_dict = {}\n",
    "labs = {}\n",
    "for i, l in labels.iterrows():\n",
    "    label_dict[l[\"tweet_id\"]] = l[\"label\"]\n",
    "    if l[\"label\"] not in labs:\n",
    "        labs[l[\"label\"]] = 1\n",
    "    else:\n",
    "        labs[l[\"label\"]] += 1\n",
    "print(labs)\n",
    "len(label_dict)"
   ]
  },
  {
   "cell_type": "code",
   "execution_count": 4,
   "id": "b33b289b",
   "metadata": {},
   "outputs": [
    {
     "data": {
      "text/plain": [
       "818"
      ]
     },
     "execution_count": 4,
     "metadata": {},
     "output_type": "execute_result"
    }
   ],
   "source": [
    "length = data.shape[0]\n",
    "length"
   ]
  },
  {
   "cell_type": "code",
   "execution_count": 5,
   "id": "40c54b8e",
   "metadata": {},
   "outputs": [
    {
     "data": {
      "text/plain": [
       "818"
      ]
     },
     "execution_count": 5,
     "metadata": {},
     "output_type": "execute_result"
    }
   ],
   "source": [
    "length = labels.shape[0]\n",
    "length"
   ]
  },
  {
   "cell_type": "code",
   "execution_count": 6,
   "id": "e6931f92",
   "metadata": {},
   "outputs": [
    {
     "data": {
      "text/html": [
       "<div>\n",
       "<style scoped>\n",
       "    .dataframe tbody tr th:only-of-type {\n",
       "        vertical-align: middle;\n",
       "    }\n",
       "\n",
       "    .dataframe tbody tr th {\n",
       "        vertical-align: top;\n",
       "    }\n",
       "\n",
       "    .dataframe thead th {\n",
       "        text-align: right;\n",
       "    }\n",
       "</style>\n",
       "<table border=\"1\" class=\"dataframe\">\n",
       "  <thead>\n",
       "    <tr style=\"text-align: right;\">\n",
       "      <th></th>\n",
       "      <th>tweet_id</th>\n",
       "      <th>tweet_text</th>\n",
       "      <th>label</th>\n",
       "    </tr>\n",
       "  </thead>\n",
       "  <tbody>\n",
       "    <tr>\n",
       "      <th>0</th>\n",
       "      <td>656955120626880512</td>\n",
       "      <td>correct predictions in back to the future ii U...</td>\n",
       "      <td>false</td>\n",
       "    </tr>\n",
       "    <tr>\n",
       "      <th>1</th>\n",
       "      <td>615689290706595840</td>\n",
       "      <td>.@whitehouse in rainbow colors for #scotusmarr...</td>\n",
       "      <td>true</td>\n",
       "    </tr>\n",
       "    <tr>\n",
       "      <th>2</th>\n",
       "      <td>613404935003217920</td>\n",
       "      <td>cops bought the alleged church shooter burger ...</td>\n",
       "      <td>false</td>\n",
       "    </tr>\n",
       "    <tr>\n",
       "      <th>3</th>\n",
       "      <td>731166399389962242</td>\n",
       "      <td>🔥ca kkk grand wizard 🔥 endorses @hillaryclinto...</td>\n",
       "      <td>unverified</td>\n",
       "    </tr>\n",
       "    <tr>\n",
       "      <th>4</th>\n",
       "      <td>714598641827246081</td>\n",
       "      <td>an open letter to trump voters from his top st...</td>\n",
       "      <td>unverified</td>\n",
       "    </tr>\n",
       "  </tbody>\n",
       "</table>\n",
       "</div>"
      ],
      "text/plain": [
       "             tweet_id                                         tweet_text  \\\n",
       "0  656955120626880512  correct predictions in back to the future ii U...   \n",
       "1  615689290706595840  .@whitehouse in rainbow colors for #scotusmarr...   \n",
       "2  613404935003217920  cops bought the alleged church shooter burger ...   \n",
       "3  731166399389962242  🔥ca kkk grand wizard 🔥 endorses @hillaryclinto...   \n",
       "4  714598641827246081  an open letter to trump voters from his top st...   \n",
       "\n",
       "        label  \n",
       "0       false  \n",
       "1        true  \n",
       "2       false  \n",
       "3  unverified  \n",
       "4  unverified  "
      ]
     },
     "execution_count": 6,
     "metadata": {},
     "output_type": "execute_result"
    }
   ],
   "source": [
    "data['label'] = data['tweet_id'].map(lambda a: label_dict[a])\n",
    "data.head()"
   ]
  },
  {
   "cell_type": "code",
   "execution_count": 7,
   "id": "496a0ce8",
   "metadata": {},
   "outputs": [
    {
     "name": "stdout",
     "output_type": "stream",
     "text": [
      "Training : 478 - 0.58\n",
      "Validation : 175 - 0.21\n",
      "Test : 165 - 0.2\n"
     ]
    }
   ],
   "source": [
    "import random\n",
    "\n",
    "random.seed(77)\n",
    "\n",
    "weight = [0, 0, 0, 0, 0, 0, 1, 1, 2, 2]\n",
    "tvt = []\n",
    "for i in range(length):\n",
    "    gacha = random.sample(weight, 1)[0]\n",
    "    if gacha == 0:\n",
    "        tvt.append(\"training\")\n",
    "    elif gacha == 1:\n",
    "        tvt.append(\"validation\")\n",
    "    else:\n",
    "        tvt.append(\"test\")\n",
    "\n",
    "print(f\"Training : {tvt.count('training')} - {round(tvt.count('training')/length, 2)}\")\n",
    "print(f\"Validation : {tvt.count('validation')} - {round(tvt.count('validation')/length, 2)}\")\n",
    "print(f\"Test : {tvt.count('test')} - {round(tvt.count('test')/length, 2)}\")"
   ]
  },
  {
   "cell_type": "code",
   "execution_count": 8,
   "id": "55d24956",
   "metadata": {},
   "outputs": [
    {
     "data": {
      "text/html": [
       "<div>\n",
       "<style scoped>\n",
       "    .dataframe tbody tr th:only-of-type {\n",
       "        vertical-align: middle;\n",
       "    }\n",
       "\n",
       "    .dataframe tbody tr th {\n",
       "        vertical-align: top;\n",
       "    }\n",
       "\n",
       "    .dataframe thead th {\n",
       "        text-align: right;\n",
       "    }\n",
       "</style>\n",
       "<table border=\"1\" class=\"dataframe\">\n",
       "  <thead>\n",
       "    <tr style=\"text-align: right;\">\n",
       "      <th></th>\n",
       "      <th>tweet_id</th>\n",
       "      <th>tweet_text</th>\n",
       "      <th>label</th>\n",
       "      <th>tvt</th>\n",
       "    </tr>\n",
       "  </thead>\n",
       "  <tbody>\n",
       "    <tr>\n",
       "      <th>0</th>\n",
       "      <td>656955120626880512</td>\n",
       "      <td>correct predictions in back to the future ii U...</td>\n",
       "      <td>false</td>\n",
       "      <td>training</td>\n",
       "    </tr>\n",
       "    <tr>\n",
       "      <th>1</th>\n",
       "      <td>615689290706595840</td>\n",
       "      <td>.@whitehouse in rainbow colors for #scotusmarr...</td>\n",
       "      <td>true</td>\n",
       "      <td>training</td>\n",
       "    </tr>\n",
       "    <tr>\n",
       "      <th>2</th>\n",
       "      <td>613404935003217920</td>\n",
       "      <td>cops bought the alleged church shooter burger ...</td>\n",
       "      <td>false</td>\n",
       "      <td>training</td>\n",
       "    </tr>\n",
       "    <tr>\n",
       "      <th>3</th>\n",
       "      <td>731166399389962242</td>\n",
       "      <td>🔥ca kkk grand wizard 🔥 endorses @hillaryclinto...</td>\n",
       "      <td>unverified</td>\n",
       "      <td>training</td>\n",
       "    </tr>\n",
       "    <tr>\n",
       "      <th>4</th>\n",
       "      <td>714598641827246081</td>\n",
       "      <td>an open letter to trump voters from his top st...</td>\n",
       "      <td>unverified</td>\n",
       "      <td>training</td>\n",
       "    </tr>\n",
       "  </tbody>\n",
       "</table>\n",
       "</div>"
      ],
      "text/plain": [
       "             tweet_id                                         tweet_text  \\\n",
       "0  656955120626880512  correct predictions in back to the future ii U...   \n",
       "1  615689290706595840  .@whitehouse in rainbow colors for #scotusmarr...   \n",
       "2  613404935003217920  cops bought the alleged church shooter burger ...   \n",
       "3  731166399389962242  🔥ca kkk grand wizard 🔥 endorses @hillaryclinto...   \n",
       "4  714598641827246081  an open letter to trump voters from his top st...   \n",
       "\n",
       "        label       tvt  \n",
       "0       false  training  \n",
       "1        true  training  \n",
       "2       false  training  \n",
       "3  unverified  training  \n",
       "4  unverified  training  "
      ]
     },
     "execution_count": 8,
     "metadata": {},
     "output_type": "execute_result"
    }
   ],
   "source": [
    "data['tvt'] = pd.Series(tvt)\n",
    "data.head()"
   ]
  },
  {
   "cell_type": "code",
   "execution_count": 9,
   "id": "3fbde073",
   "metadata": {},
   "outputs": [
    {
     "data": {
      "text/html": [
       "<div>\n",
       "<style scoped>\n",
       "    .dataframe tbody tr th:only-of-type {\n",
       "        vertical-align: middle;\n",
       "    }\n",
       "\n",
       "    .dataframe tbody tr th {\n",
       "        vertical-align: top;\n",
       "    }\n",
       "\n",
       "    .dataframe thead th {\n",
       "        text-align: right;\n",
       "    }\n",
       "</style>\n",
       "<table border=\"1\" class=\"dataframe\">\n",
       "  <thead>\n",
       "    <tr style=\"text-align: right;\">\n",
       "      <th></th>\n",
       "      <th>tweet_id</th>\n",
       "      <th>tweet_text</th>\n",
       "      <th>label</th>\n",
       "      <th>tvt</th>\n",
       "    </tr>\n",
       "  </thead>\n",
       "  <tbody>\n",
       "    <tr>\n",
       "      <th>100</th>\n",
       "      <td>638050997340893184</td>\n",
       "      <td>in celebrity death hoax news, james earl jones...</td>\n",
       "      <td>false</td>\n",
       "      <td>training</td>\n",
       "    </tr>\n",
       "    <tr>\n",
       "      <th>101</th>\n",
       "      <td>692890520960397312</td>\n",
       "      <td>the terps do it again! no. 8 maryland knocks o...</td>\n",
       "      <td>non-rumor</td>\n",
       "      <td>training</td>\n",
       "    </tr>\n",
       "    <tr>\n",
       "      <th>102</th>\n",
       "      <td>544324444773433348</td>\n",
       "      <td>uber says it has hiked prices in sydney to \"en...</td>\n",
       "      <td>true</td>\n",
       "      <td>validation</td>\n",
       "    </tr>\n",
       "    <tr>\n",
       "      <th>103</th>\n",
       "      <td>745236050407194624</td>\n",
       "      <td>the big one: 'large scale motion' detected alo...</td>\n",
       "      <td>unverified</td>\n",
       "      <td>training</td>\n",
       "    </tr>\n",
       "    <tr>\n",
       "      <th>104</th>\n",
       "      <td>673079581520318464</td>\n",
       "      <td>do these look like the faces of a homeless cou...</td>\n",
       "      <td>false</td>\n",
       "      <td>validation</td>\n",
       "    </tr>\n",
       "  </tbody>\n",
       "</table>\n",
       "</div>"
      ],
      "text/plain": [
       "               tweet_id                                         tweet_text  \\\n",
       "100  638050997340893184  in celebrity death hoax news, james earl jones...   \n",
       "101  692890520960397312  the terps do it again! no. 8 maryland knocks o...   \n",
       "102  544324444773433348  uber says it has hiked prices in sydney to \"en...   \n",
       "103  745236050407194624  the big one: 'large scale motion' detected alo...   \n",
       "104  673079581520318464  do these look like the faces of a homeless cou...   \n",
       "\n",
       "          label         tvt  \n",
       "100       false    training  \n",
       "101   non-rumor    training  \n",
       "102        true  validation  \n",
       "103  unverified    training  \n",
       "104       false  validation  "
      ]
     },
     "execution_count": 9,
     "metadata": {},
     "output_type": "execute_result"
    }
   ],
   "source": [
    "data[100:105]"
   ]
  },
  {
   "cell_type": "code",
   "execution_count": 10,
   "id": "3b609316",
   "metadata": {},
   "outputs": [
    {
     "data": {
      "text/plain": [
       "true          207\n",
       "non-rumor     205\n",
       "false         205\n",
       "unverified    201\n",
       "Name: label, dtype: int64"
      ]
     },
     "execution_count": 10,
     "metadata": {},
     "output_type": "execute_result"
    }
   ],
   "source": [
    "label_count = data['label'].value_counts()\n",
    "label_count"
   ]
  },
  {
   "cell_type": "code",
   "execution_count": 11,
   "id": "6dea3705",
   "metadata": {},
   "outputs": [
    {
     "data": {
      "text/plain": [
       "unverified_training      125\n",
       "false_training           124\n",
       "true_training            122\n",
       "non-rumor_training       107\n",
       "non-rumor_validation      60\n",
       "false_test                46\n",
       "true_test                 43\n",
       "true_validation           42\n",
       "non-rumor_test            38\n",
       "unverified_validation     38\n",
       "unverified_test           38\n",
       "false_validation          35\n",
       "dtype: int64"
      ]
     },
     "execution_count": 11,
     "metadata": {},
     "output_type": "execute_result"
    }
   ],
   "source": [
    "combination = data.apply(lambda row: f\"{row['label']}_{row['tvt']}\", axis=1).value_counts()\n",
    "combination"
   ]
  },
  {
   "cell_type": "code",
   "execution_count": 12,
   "id": "3925826b",
   "metadata": {},
   "outputs": [],
   "source": [
    "data.to_csv(\"../../data/processed/twitter16_dataset_with_tvt.csv\", index=False)"
   ]
  },
  {
   "cell_type": "code",
   "execution_count": null,
   "id": "00af9ced",
   "metadata": {},
   "outputs": [],
   "source": []
  }
 ],
 "metadata": {
  "kernelspec": {
   "display_name": "Python 3",
   "language": "python",
   "name": "python3"
  },
  "language_info": {
   "codemirror_mode": {
    "name": "ipython",
    "version": 3
   },
   "file_extension": ".py",
   "mimetype": "text/x-python",
   "name": "python",
   "nbconvert_exporter": "python",
   "pygments_lexer": "ipython3",
   "version": "3.8.6"
  }
 },
 "nbformat": 4,
 "nbformat_minor": 5
}
