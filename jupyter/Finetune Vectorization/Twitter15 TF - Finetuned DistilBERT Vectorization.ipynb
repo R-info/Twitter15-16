{
 "cells": [
  {
   "cell_type": "code",
   "execution_count": 1,
   "id": "629a58c7",
   "metadata": {},
   "outputs": [
    {
     "name": "stdout",
     "output_type": "stream",
     "text": [
      "Loading done\n"
     ]
    }
   ],
   "source": [
    "from transformers import AutoModelForSequenceClassification, AutoTokenizer\n",
    "from sentence_transformers.models import Pooling\n",
    "\n",
    "pooling_layer = Pooling(768)\n",
    "tokenizer = AutoTokenizer.from_pretrained(\"distilbert-base-cased\")\n",
    "model = AutoModelForSequenceClassification.from_pretrained(\n",
    "    \"../../data/models/distilbert-base-finetuned-twitter15-tf/checkpoint-650/\",\n",
    "    output_hidden_states=True, num_labels=2)\n",
    "\n",
    "model.to(\"cuda\")\n",
    "print(\"Loading done\")"
   ]
  },
  {
   "cell_type": "code",
   "execution_count": 2,
   "id": "5c929727",
   "metadata": {},
   "outputs": [],
   "source": [
    "def encode_text(text):\n",
    "    inputs = tokenizer(text, return_tensors=\"pt\")\n",
    "    inputs.to(\"cuda\")\n",
    "    token_logits = model(inputs['input_ids'])\n",
    "\n",
    "    embeddings = token_logits.hidden_states[-1]\n",
    "\n",
    "    inputs = {\n",
    "        'attention_mask': inputs['attention_mask'],\n",
    "        'token_embeddings': embeddings,\n",
    "        'cls_token_embeddings': None\n",
    "    }\n",
    "    result = pooling_layer.forward(inputs)\n",
    "    result = result['sentence_embedding'].cpu().detach().numpy()\n",
    "\n",
    "    return result\n",
    "\n",
    "def encode_and_save(texts, savefile = None):\n",
    "    if not savefile:\n",
    "        print(\"Please define savefile\")\n",
    "        return\n",
    "    \n",
    "    vectors = []\n",
    "    for text in texts:\n",
    "        vectors.append(encode_text(text))\n",
    "    \n",
    "    vectors = np.array(vectors).reshape((len(texts), 768))\n",
    "    \n",
    "    with open(f\"../../data/vectors/{savefile}.txt\", \"wb\") as f:\n",
    "        np.savetxt(f, vectors, delimiter=',', fmt='%s')"
   ]
  },
  {
   "cell_type": "code",
   "execution_count": 3,
   "id": "bb7e1bf1",
   "metadata": {},
   "outputs": [
    {
     "data": {
      "text/html": [
       "<div>\n",
       "<style scoped>\n",
       "    .dataframe tbody tr th:only-of-type {\n",
       "        vertical-align: middle;\n",
       "    }\n",
       "\n",
       "    .dataframe tbody tr th {\n",
       "        vertical-align: top;\n",
       "    }\n",
       "\n",
       "    .dataframe thead th {\n",
       "        text-align: right;\n",
       "    }\n",
       "</style>\n",
       "<table border=\"1\" class=\"dataframe\">\n",
       "  <thead>\n",
       "    <tr style=\"text-align: right;\">\n",
       "      <th></th>\n",
       "      <th>tweet_id</th>\n",
       "      <th>tweet_text</th>\n",
       "      <th>label</th>\n",
       "      <th>tvt2</th>\n",
       "    </tr>\n",
       "  </thead>\n",
       "  <tbody>\n",
       "    <tr>\n",
       "      <th>0</th>\n",
       "      <td>551099691702956032</td>\n",
       "      <td>rip elly may clampett: so sad to learn #beverl...</td>\n",
       "      <td>True</td>\n",
       "      <td>training</td>\n",
       "    </tr>\n",
       "    <tr>\n",
       "      <th>1</th>\n",
       "      <td>514106273852174337</td>\n",
       "      <td>just in: missing afghan soldiers found trying ...</td>\n",
       "      <td>True</td>\n",
       "      <td>training</td>\n",
       "    </tr>\n",
       "    <tr>\n",
       "      <th>2</th>\n",
       "      <td>495366618818830336</td>\n",
       "      <td>#riphulkhogan my heart is ripping like your sh...</td>\n",
       "      <td>False</td>\n",
       "      <td>training</td>\n",
       "    </tr>\n",
       "    <tr>\n",
       "      <th>3</th>\n",
       "      <td>532206910796468224</td>\n",
       "      <td>a chick-fil-a manager allegedly banned this hi...</td>\n",
       "      <td>False</td>\n",
       "      <td>training</td>\n",
       "    </tr>\n",
       "    <tr>\n",
       "      <th>4</th>\n",
       "      <td>560187970389819392</td>\n",
       "      <td>islamic tribunal using sharia law in texas has...</td>\n",
       "      <td>False</td>\n",
       "      <td>validation</td>\n",
       "    </tr>\n",
       "  </tbody>\n",
       "</table>\n",
       "</div>"
      ],
      "text/plain": [
       "             tweet_id                                         tweet_text  \\\n",
       "0  551099691702956032  rip elly may clampett: so sad to learn #beverl...   \n",
       "1  514106273852174337  just in: missing afghan soldiers found trying ...   \n",
       "2  495366618818830336  #riphulkhogan my heart is ripping like your sh...   \n",
       "3  532206910796468224  a chick-fil-a manager allegedly banned this hi...   \n",
       "4  560187970389819392  islamic tribunal using sharia law in texas has...   \n",
       "\n",
       "   label        tvt2  \n",
       "0   True    training  \n",
       "1   True    training  \n",
       "2  False    training  \n",
       "3  False    training  \n",
       "4  False  validation  "
      ]
     },
     "execution_count": 3,
     "metadata": {},
     "output_type": "execute_result"
    }
   ],
   "source": [
    "import pandas as pd\n",
    "import numpy as np\n",
    "\n",
    "data = pd.read_csv(\"../../data/twitter15-tf_dataset.csv\", lineterminator=\"\\n\")\n",
    "data.head()"
   ]
  },
  {
   "cell_type": "code",
   "execution_count": 4,
   "id": "4a3add31",
   "metadata": {},
   "outputs": [
    {
     "data": {
      "text/plain": [
       "(742, 4)"
      ]
     },
     "execution_count": 4,
     "metadata": {},
     "output_type": "execute_result"
    }
   ],
   "source": [
    "data.shape"
   ]
  },
  {
   "cell_type": "code",
   "execution_count": 5,
   "id": "8bc17a78",
   "metadata": {},
   "outputs": [],
   "source": [
    "savefile = \"Twitter15-TF_DistilBERT_base_finetuned_vectors\"\n",
    "texts = data['tweet_text'].tolist()\n",
    "\n",
    "encode_and_save(texts, savefile)"
   ]
  },
  {
   "cell_type": "code",
   "execution_count": 6,
   "id": "0473c591",
   "metadata": {},
   "outputs": [
    {
     "data": {
      "text/plain": [
       "(742, 768)"
      ]
     },
     "execution_count": 6,
     "metadata": {},
     "output_type": "execute_result"
    }
   ],
   "source": [
    "vectors = np.loadtxt(f\"../../data/vectors/{savefile}.txt\", delimiter=\",\")\n",
    "vectors.shape"
   ]
  },
  {
   "cell_type": "code",
   "execution_count": null,
   "id": "11e3977e",
   "metadata": {},
   "outputs": [],
   "source": []
  }
 ],
 "metadata": {
  "kernelspec": {
   "display_name": "Python 3 (ipykernel)",
   "language": "python",
   "name": "python3"
  },
  "language_info": {
   "codemirror_mode": {
    "name": "ipython",
    "version": 3
   },
   "file_extension": ".py",
   "mimetype": "text/x-python",
   "name": "python",
   "nbconvert_exporter": "python",
   "pygments_lexer": "ipython3",
   "version": "3.9.5"
  }
 },
 "nbformat": 4,
 "nbformat_minor": 5
}
